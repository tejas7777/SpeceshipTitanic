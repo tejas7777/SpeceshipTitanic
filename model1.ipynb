{
 "cells": [
  {
   "cell_type": "code",
   "execution_count": 1,
   "metadata": {},
   "outputs": [
    {
     "data": {
      "text/html": [
       "<div>\n",
       "<style scoped>\n",
       "    .dataframe tbody tr th:only-of-type {\n",
       "        vertical-align: middle;\n",
       "    }\n",
       "\n",
       "    .dataframe tbody tr th {\n",
       "        vertical-align: top;\n",
       "    }\n",
       "\n",
       "    .dataframe thead th {\n",
       "        text-align: right;\n",
       "    }\n",
       "</style>\n",
       "<table border=\"1\" class=\"dataframe\">\n",
       "  <thead>\n",
       "    <tr style=\"text-align: right;\">\n",
       "      <th></th>\n",
       "      <th>PassengerId</th>\n",
       "      <th>HomePlanet</th>\n",
       "      <th>CryoSleep</th>\n",
       "      <th>Cabin</th>\n",
       "      <th>Destination</th>\n",
       "      <th>Age</th>\n",
       "      <th>VIP</th>\n",
       "      <th>RoomService</th>\n",
       "      <th>FoodCourt</th>\n",
       "      <th>ShoppingMall</th>\n",
       "      <th>Spa</th>\n",
       "      <th>VRDeck</th>\n",
       "      <th>Name</th>\n",
       "      <th>Transported</th>\n",
       "    </tr>\n",
       "  </thead>\n",
       "  <tbody>\n",
       "    <tr>\n",
       "      <th>0</th>\n",
       "      <td>0001_01</td>\n",
       "      <td>Europa</td>\n",
       "      <td>False</td>\n",
       "      <td>B/0/P</td>\n",
       "      <td>TRAPPIST-1e</td>\n",
       "      <td>39.0</td>\n",
       "      <td>False</td>\n",
       "      <td>0.0</td>\n",
       "      <td>0.0</td>\n",
       "      <td>0.0</td>\n",
       "      <td>0.0</td>\n",
       "      <td>0.0</td>\n",
       "      <td>Maham Ofracculy</td>\n",
       "      <td>False</td>\n",
       "    </tr>\n",
       "    <tr>\n",
       "      <th>1</th>\n",
       "      <td>0002_01</td>\n",
       "      <td>Earth</td>\n",
       "      <td>False</td>\n",
       "      <td>F/0/S</td>\n",
       "      <td>TRAPPIST-1e</td>\n",
       "      <td>24.0</td>\n",
       "      <td>False</td>\n",
       "      <td>109.0</td>\n",
       "      <td>9.0</td>\n",
       "      <td>25.0</td>\n",
       "      <td>549.0</td>\n",
       "      <td>44.0</td>\n",
       "      <td>Juanna Vines</td>\n",
       "      <td>True</td>\n",
       "    </tr>\n",
       "    <tr>\n",
       "      <th>2</th>\n",
       "      <td>0003_01</td>\n",
       "      <td>Europa</td>\n",
       "      <td>False</td>\n",
       "      <td>A/0/S</td>\n",
       "      <td>TRAPPIST-1e</td>\n",
       "      <td>58.0</td>\n",
       "      <td>True</td>\n",
       "      <td>43.0</td>\n",
       "      <td>3576.0</td>\n",
       "      <td>0.0</td>\n",
       "      <td>6715.0</td>\n",
       "      <td>49.0</td>\n",
       "      <td>Altark Susent</td>\n",
       "      <td>False</td>\n",
       "    </tr>\n",
       "    <tr>\n",
       "      <th>3</th>\n",
       "      <td>0003_02</td>\n",
       "      <td>Europa</td>\n",
       "      <td>False</td>\n",
       "      <td>A/0/S</td>\n",
       "      <td>TRAPPIST-1e</td>\n",
       "      <td>33.0</td>\n",
       "      <td>False</td>\n",
       "      <td>0.0</td>\n",
       "      <td>1283.0</td>\n",
       "      <td>371.0</td>\n",
       "      <td>3329.0</td>\n",
       "      <td>193.0</td>\n",
       "      <td>Solam Susent</td>\n",
       "      <td>False</td>\n",
       "    </tr>\n",
       "    <tr>\n",
       "      <th>4</th>\n",
       "      <td>0004_01</td>\n",
       "      <td>Earth</td>\n",
       "      <td>False</td>\n",
       "      <td>F/1/S</td>\n",
       "      <td>TRAPPIST-1e</td>\n",
       "      <td>16.0</td>\n",
       "      <td>False</td>\n",
       "      <td>303.0</td>\n",
       "      <td>70.0</td>\n",
       "      <td>151.0</td>\n",
       "      <td>565.0</td>\n",
       "      <td>2.0</td>\n",
       "      <td>Willy Santantines</td>\n",
       "      <td>True</td>\n",
       "    </tr>\n",
       "  </tbody>\n",
       "</table>\n",
       "</div>"
      ],
      "text/plain": [
       "  PassengerId HomePlanet CryoSleep  Cabin  Destination   Age    VIP  \\\n",
       "0     0001_01     Europa     False  B/0/P  TRAPPIST-1e  39.0  False   \n",
       "1     0002_01      Earth     False  F/0/S  TRAPPIST-1e  24.0  False   \n",
       "2     0003_01     Europa     False  A/0/S  TRAPPIST-1e  58.0   True   \n",
       "3     0003_02     Europa     False  A/0/S  TRAPPIST-1e  33.0  False   \n",
       "4     0004_01      Earth     False  F/1/S  TRAPPIST-1e  16.0  False   \n",
       "\n",
       "   RoomService  FoodCourt  ShoppingMall     Spa  VRDeck               Name  \\\n",
       "0          0.0        0.0           0.0     0.0     0.0    Maham Ofracculy   \n",
       "1        109.0        9.0          25.0   549.0    44.0       Juanna Vines   \n",
       "2         43.0     3576.0           0.0  6715.0    49.0      Altark Susent   \n",
       "3          0.0     1283.0         371.0  3329.0   193.0       Solam Susent   \n",
       "4        303.0       70.0         151.0   565.0     2.0  Willy Santantines   \n",
       "\n",
       "   Transported  \n",
       "0        False  \n",
       "1         True  \n",
       "2        False  \n",
       "3        False  \n",
       "4         True  "
      ]
     },
     "execution_count": 1,
     "metadata": {},
     "output_type": "execute_result"
    }
   ],
   "source": [
    "import numpy as np\n",
    "import pandas as pd\n",
    "\n",
    "df = pd.read_csv('./dataset/train.csv') \n",
    "df.head()"
   ]
  },
  {
   "cell_type": "code",
   "execution_count": 2,
   "metadata": {},
   "outputs": [
    {
     "data": {
      "text/plain": [
       "PassengerId       0\n",
       "HomePlanet      201\n",
       "CryoSleep       217\n",
       "Cabin           199\n",
       "Destination     182\n",
       "Age             179\n",
       "VIP             203\n",
       "RoomService     181\n",
       "FoodCourt       183\n",
       "ShoppingMall    208\n",
       "Spa             183\n",
       "VRDeck          188\n",
       "Name            200\n",
       "Transported       0\n",
       "dtype: int64"
      ]
     },
     "execution_count": 2,
     "metadata": {},
     "output_type": "execute_result"
    }
   ],
   "source": [
    "#Missing Values\n",
    "df.isna().sum()"
   ]
  },
  {
   "cell_type": "code",
   "execution_count": 3,
   "metadata": {},
   "outputs": [
    {
     "data": {
      "text/plain": [
       "{'PassengerId': array(['0001_01', '0002_01', '0003_01', ..., '9279_01', '9280_01',\n",
       "        '9280_02'], dtype=object),\n",
       " 'HomePlanet': array(['Europa', 'Earth', 'Mars', nan], dtype=object),\n",
       " 'CryoSleep': array([False, True, nan], dtype=object),\n",
       " 'Cabin': array(['B/0/P', 'F/0/S', 'A/0/S', ..., 'G/1499/S', 'G/1500/S', 'E/608/S'],\n",
       "       dtype=object),\n",
       " 'Destination': array(['TRAPPIST-1e', 'PSO J318.5-22', '55 Cancri e', nan], dtype=object),\n",
       " 'Age': array([39., 24., 58., 33., 16., 44., 26., 28., 35., 14., 34., 45., 32.,\n",
       "        48., 31., 27.,  0.,  1., 49., 29., 10.,  7., 21., 62., 15., 43.,\n",
       "        47.,  2., 20., 23., 30., 17., 55.,  4., 19., 56., nan, 25., 38.,\n",
       "        36., 22., 18., 42., 37., 13.,  8., 40.,  3., 54.,  9.,  6., 64.,\n",
       "        67., 61., 50., 41., 57., 11., 52., 51., 46., 60., 63., 59.,  5.,\n",
       "        79., 68., 74., 12., 53., 65., 71., 75., 70., 76., 78., 73., 66.,\n",
       "        69., 72., 77.]),\n",
       " 'VIP': array([False, True, nan], dtype=object),\n",
       " 'RoomService': array([   0.,  109.,   43., ..., 1569., 8586.,  745.]),\n",
       " 'FoodCourt': array([   0.,    9., 3576., ..., 3208., 6819., 4688.]),\n",
       " 'ShoppingMall': array([   0.,   25.,  371., ..., 1085.,  510., 1872.]),\n",
       " 'Spa': array([   0.,  549., 6715., ..., 2868., 1107., 1643.]),\n",
       " 'VRDeck': array([   0.,   44.,   49., ..., 1164.,  971., 3235.]),\n",
       " 'Name': array(['Maham Ofracculy', 'Juanna Vines', 'Altark Susent', ...,\n",
       "        'Fayey Connon', 'Celeon Hontichre', 'Propsh Hontichre'],\n",
       "       dtype=object),\n",
       " 'Transported': array([False,  True])}"
      ]
     },
     "execution_count": 3,
     "metadata": {},
     "output_type": "execute_result"
    }
   ],
   "source": [
    "unique_values = {col: df[col].unique() for col in df.columns}\n",
    "\n",
    "unique_values"
   ]
  },
  {
   "cell_type": "code",
   "execution_count": 4,
   "metadata": {},
   "outputs": [],
   "source": [
    "#Fill in missing data for numerical values using median\n",
    "for col in df.columns:\n",
    "    if df[col].dtype in ['int64', 'float64']:  # Check if the column is numerical\n",
    "        df[col] = df[col].fillna(df[col].median())"
   ]
  },
  {
   "cell_type": "code",
   "execution_count": 5,
   "metadata": {},
   "outputs": [],
   "source": [
    "#Droppin ID and name\n",
    "df.drop(['PassengerId','Name'], axis=1, inplace=True)"
   ]
  },
  {
   "cell_type": "code",
   "execution_count": 6,
   "metadata": {},
   "outputs": [
    {
     "data": {
      "text/plain": [
       "HomePlanet      0\n",
       "CryoSleep       0\n",
       "Cabin           0\n",
       "Destination     0\n",
       "Age             0\n",
       "VIP             0\n",
       "RoomService     0\n",
       "FoodCourt       0\n",
       "ShoppingMall    0\n",
       "Spa             0\n",
       "VRDeck          0\n",
       "Transported     0\n",
       "dtype: int64"
      ]
     },
     "execution_count": 6,
     "metadata": {},
     "output_type": "execute_result"
    }
   ],
   "source": [
    "\n",
    "#Encode unknown class\n",
    "unknown_class_columns = ['HomePlanet','CryoSleep','Cabin','VIP']\n",
    "\n",
    "df['Destination'] = df['Destination'].fillna(df['Destination'].mode()[0])\n",
    "\n",
    "df[unknown_class_columns] = df[unknown_class_columns].fillna('Unknown')\n",
    "\n",
    "df.isna().sum()\n"
   ]
  },
  {
   "cell_type": "code",
   "execution_count": 7,
   "metadata": {},
   "outputs": [],
   "source": [
    "columns_to_encode = ['HomePlanet','Destination', 'CryoSleep','VIP']\n",
    "\n",
    "df = pd.get_dummies(df,columns=columns_to_encode, drop_first=True)\n",
    "\n"
   ]
  },
  {
   "cell_type": "code",
   "execution_count": 8,
   "metadata": {},
   "outputs": [],
   "source": [
    "#Target encoding for Cabin\n",
    "# target_mean = df.groupby('Cabin')['Transported'].mean()\n",
    "# df['Cabin'] = df['Cabin'].map(target_mean)\n",
    "\n",
    "# df[['Cabin','Transported']]"
   ]
  },
  {
   "cell_type": "code",
   "execution_count": 9,
   "metadata": {},
   "outputs": [
    {
     "data": {
      "image/png": "[encoded data removed]",
      "text/plain": [
       "<Figure size 640x480 with 6 Axes>"
      ]
     },
     "metadata": {},
     "output_type": "display_data"
    }
   ],
   "source": [
    "#Check distributions of numeric data\n",
    "from matplotlib import pyplot as plt\n",
    "\n",
    "numerical_columns = []\n",
    "\n",
    "for col in df.columns:\n",
    "    if df[col].dtype in ['int64', 'float64'] and df[col].name != 'Cabin':  # Check if the column is numerical\n",
    "        numerical_columns.append(df[col].name)\n",
    "\n",
    "numerical_df = df[numerical_columns]\n",
    "\n",
    "numerical_df.hist(layout=(2, 3))\n",
    "plt.show()"
   ]
  },
  {
   "cell_type": "code",
   "execution_count": 10,
   "metadata": {},
   "outputs": [
    {
     "name": "stdout",
     "output_type": "stream",
     "text": [
      "['Age', 'RoomService', 'FoodCourt', 'ShoppingMall', 'Spa', 'VRDeck']\n"
     ]
    },
    {
     "name": "stderr",
     "output_type": "stream",
     "text": [
      "/var/folders/0r/b5q635yn4bd0y1jbq55llxcc0000gn/T/ipykernel_5742/3669452635.py:12: SettingWithCopyWarning: \n",
      "A value is trying to be set on a copy of a slice from a DataFrame.\n",
      "Try using .loc[row_indexer,col_indexer] = value instead\n",
      "\n",
      "See the caveats in the documentation: https://pandas.pydata.org/pandas-docs/stable/user_guide/indexing.html#returning-a-view-versus-a-copy\n",
      "  df[col] = np.log(df[col]+1)\n"
     ]
    }
   ],
   "source": [
    "#Transform the data\n",
    "def transform_to_normal(df:pd.DataFrame):\n",
    "\n",
    "    numerical_columns = []\n",
    "\n",
    "    for col in df.columns:\n",
    "        if df[col].dtype in ['int64', 'float64'] and df[col].name != 'Cabin':  # Check if the column is numerical\n",
    "            numerical_columns.append(df[col].name)\n",
    "\n",
    "    for col in df.columns:\n",
    "        if col in columns_to_transform and col != 'Age':\n",
    "            df[col] = np.log(df[col]+1)\n",
    "\n",
    "    return df\n",
    "\n",
    "\n",
    "columns_to_transform:list = numerical_columns\n",
    "\n",
    "print(numerical_columns)\n",
    "\n",
    "numerical_df = transform_to_normal(numerical_df)\n"
   ]
  },
  {
   "cell_type": "code",
   "execution_count": 11,
   "metadata": {},
   "outputs": [
    {
     "data": {
      "image/png": "[encoded data removed]",
      "text/plain": [
       "<Figure size 640x480 with 6 Axes>"
      ]
     },
     "metadata": {},
     "output_type": "display_data"
    }
   ],
   "source": [
    "numerical_df.hist(layout=(2, 3))\n",
    "plt.show()"
   ]
  },
  {
   "cell_type": "code",
   "execution_count": 12,
   "metadata": {},
   "outputs": [
    {
     "name": "stdout",
     "output_type": "stream",
     "text": [
      "Index(['Cabin', 'Age', 'RoomService', 'FoodCourt', 'ShoppingMall', 'Spa',\n",
      "       'VRDeck', 'Transported', 'HomePlanet_Europa', 'HomePlanet_Mars',\n",
      "       'HomePlanet_Unknown', 'Destination_PSO J318.5-22',\n",
      "       'Destination_TRAPPIST-1e', 'CryoSleep_True', 'CryoSleep_Unknown',\n",
      "       'VIP_True', 'VIP_Unknown'],\n",
      "      dtype='object')\n"
     ]
    }
   ],
   "source": [
    "#Merge DFs\n",
    "for col in numerical_df.columns:\n",
    "    df[col] = numerical_df[col]\n",
    "\n",
    "\n",
    "print(df.columns)\n"
   ]
  },
  {
   "cell_type": "code",
   "execution_count": 13,
   "metadata": {},
   "outputs": [],
   "source": [
    "#Encode binary data\n",
    "\n",
    "def encode_to_binary(df:pd.DataFrame):\n",
    "    #df['CryoSleep'] = df['CryoSleep'].map({True: 1, False: 0})\n",
    "    #df['VIP'] = df['VIP'].map({True: 1, False: 0})\n",
    "\n",
    "    bool_cols = df.select_dtypes(include=['bool']).columns\n",
    "    df[bool_cols] = df[bool_cols].astype(int)\n",
    "\n",
    "\n",
    "    X = df.drop(['Transported','Cabin'], axis = 1)\n",
    "    y = df['Transported']\n",
    "\n",
    "    return (X,y)\n",
    "\n",
    "X,y = encode_to_binary(df)\n"
   ]
  },
  {
   "cell_type": "code",
   "execution_count": 14,
   "metadata": {},
   "outputs": [],
   "source": [
    "from sklearn.model_selection import train_test_split\n",
    "\n",
    "X_train, X_test, y_train, y_test = train_test_split(X,y, train_size=0.8)"
   ]
  },
  {
   "cell_type": "code",
   "execution_count": 15,
   "metadata": {},
   "outputs": [
    {
     "name": "stdout",
     "output_type": "stream",
     "text": [
      "Optimization terminated successfully.\n",
      "         Current function value: 0.490688\n",
      "         Iterations 6\n",
      "                           Logit Regression Results                           \n",
      "==============================================================================\n",
      "Dep. Variable:            Transported   No. Observations:                 6954\n",
      "Model:                          Logit   Df Residuals:                     6938\n",
      "Method:                           MLE   Df Model:                           15\n",
      "Date:                Tue, 19 Dec 2023   Pseudo R-squ.:                  0.2921\n",
      "Time:                        16:07:23   Log-Likelihood:                -3412.2\n",
      "converged:                       True   LL-Null:                       -4820.0\n",
      "Covariance Type:            nonrobust   LLR p-value:                     0.000\n",
      "=============================================================================================\n",
      "                                coef    std err          z      P>|z|      [0.025      0.975]\n",
      "---------------------------------------------------------------------------------------------\n",
      "const                         0.4458      0.110      4.055      0.000       0.230       0.661\n",
      "Age                          -0.0060      0.002     -2.680      0.007      -0.010      -0.002\n",
      "RoomService                  -0.2096      0.014    -15.006      0.000      -0.237      -0.182\n",
      "FoodCourt                     0.1270      0.014      9.379      0.000       0.100       0.154\n",
      "ShoppingMall                  0.0863      0.013      6.535      0.000       0.060       0.112\n",
      "Spa                          -0.2472      0.014    -17.475      0.000      -0.275      -0.219\n",
      "VRDeck                       -0.2528      0.014    -17.480      0.000      -0.281      -0.224\n",
      "HomePlanet_Europa             1.6654      0.101     16.432      0.000       1.467       1.864\n",
      "HomePlanet_Mars               0.5615      0.085      6.636      0.000       0.396       0.727\n",
      "HomePlanet_Unknown            0.5183      0.199      2.602      0.009       0.128       0.909\n",
      "Destination_PSO J318.5-22    -0.3213      0.123     -2.604      0.009      -0.563      -0.079\n",
      "Destination_TRAPPIST-1e      -0.3946      0.080     -4.913      0.000      -0.552      -0.237\n",
      "CryoSleep_True                1.0210      0.099     10.328      0.000       0.827       1.215\n",
      "CryoSleep_Unknown             0.2531      0.183      1.379      0.168      -0.107       0.613\n",
      "VIP_True                     -0.5021      0.203     -2.479      0.013      -0.899      -0.105\n",
      "VIP_Unknown                   0.0988      0.206      0.481      0.631      -0.304       0.502\n",
      "=============================================================================================\n"
     ]
    }
   ],
   "source": [
    "import statsmodels.api as sm\n",
    "\n",
    "X_train_logistic = sm.add_constant(X_train)\n",
    "model = sm.Logit(y_train, X_train_logistic).fit()\n",
    "\n",
    "print(model.summary())"
   ]
  },
  {
   "cell_type": "code",
   "execution_count": 16,
   "metadata": {},
   "outputs": [
    {
     "name": "stdout",
     "output_type": "stream",
     "text": [
      "Balanced Accuracy Score: 0.7669983251708563\n"
     ]
    }
   ],
   "source": [
    "#Test model\n",
    "from sklearn.metrics import balanced_accuracy_score\n",
    "\n",
    "X_test_logistic = sm.add_constant(X_test)\n",
    "y_pred = model.predict(X_test_logistic)\n",
    "\n",
    "y_pred = np.where(y_pred > 0.5, 1, 0)\n",
    "\n",
    "score = balanced_accuracy_score(y_test, y_pred)\n",
    "\n",
    "print('Balanced Accuracy Score:',score)\n"
   ]
  },
  {
   "cell_type": "code",
   "execution_count": 17,
   "metadata": {},
   "outputs": [
    {
     "data": {
      "text/plain": [
       "PassengerId       0\n",
       "HomePlanet       87\n",
       "CryoSleep        93\n",
       "Cabin           100\n",
       "Destination      92\n",
       "Age               0\n",
       "VIP              93\n",
       "RoomService       0\n",
       "FoodCourt         0\n",
       "ShoppingMall      0\n",
       "Spa               0\n",
       "VRDeck            0\n",
       "Name             94\n",
       "dtype: int64"
      ]
     },
     "execution_count": 17,
     "metadata": {},
     "output_type": "execute_result"
    }
   ],
   "source": [
    "#Read testing data\n",
    "\n",
    "test_df = pd.read_csv('./dataset/test.csv')\n",
    "\n",
    "#Fill in missing data for numerical values using median\n",
    "for col in test_df.columns:\n",
    "    if test_df[col].dtype in ['int64', 'float64']:  # Check if the column is numerical\n",
    "        test_df[col] = test_df[col].fillna(df[col].median())\n",
    "\n",
    "\n",
    "test_df.isna().sum()"
   ]
  },
  {
   "cell_type": "code",
   "execution_count": 18,
   "metadata": {},
   "outputs": [],
   "source": [
    "#Droppin ID and name\n",
    "id = test_df['PassengerId']\n",
    "test_df.drop(['PassengerId','Name'], axis=1, inplace=True)"
   ]
  },
  {
   "cell_type": "code",
   "execution_count": 19,
   "metadata": {},
   "outputs": [
    {
     "name": "stderr",
     "output_type": "stream",
     "text": [
      "/var/folders/0r/b5q635yn4bd0y1jbq55llxcc0000gn/T/ipykernel_5742/3669452635.py:12: SettingWithCopyWarning: \n",
      "A value is trying to be set on a copy of a slice from a DataFrame.\n",
      "Try using .loc[row_indexer,col_indexer] = value instead\n",
      "\n",
      "See the caveats in the documentation: https://pandas.pydata.org/pandas-docs/stable/user_guide/indexing.html#returning-a-view-versus-a-copy\n",
      "  df[col] = np.log(df[col]+1)\n"
     ]
    },
    {
     "data": {
      "text/plain": [
       "HomePlanet      0\n",
       "CryoSleep       0\n",
       "Cabin           0\n",
       "Destination     0\n",
       "Age             0\n",
       "VIP             0\n",
       "RoomService     0\n",
       "FoodCourt       0\n",
       "ShoppingMall    0\n",
       "Spa             0\n",
       "VRDeck          0\n",
       "dtype: int64"
      ]
     },
     "execution_count": 19,
     "metadata": {},
     "output_type": "execute_result"
    }
   ],
   "source": [
    "numerical_columns = []\n",
    "\n",
    "for col in test_df.columns:\n",
    "    if test_df[col].dtype in ['int64', 'float64'] and test_df[col].name != 'Cabin':  # Check if the column is numerical\n",
    "        numerical_columns.append(test_df[col].name)\n",
    "\n",
    "numerical_test_df = df[numerical_columns]\n",
    "\n",
    "numerical_test_df = transform_to_normal(numerical_test_df)\n",
    "\n",
    "\n",
    "\n",
    "#Encode unknown class\n",
    "unknown_class_columns = ['HomePlanet','CryoSleep','Cabin','VIP']\n",
    "\n",
    "test_df['Destination'] = test_df['Destination'].fillna(test_df['Destination'].mode()[0])\n",
    "\n",
    "test_df[unknown_class_columns] = test_df[unknown_class_columns].fillna('Unknown')\n",
    "\n",
    "test_df.isna().sum()"
   ]
  },
  {
   "cell_type": "code",
   "execution_count": 20,
   "metadata": {},
   "outputs": [],
   "source": [
    "columns_to_encode = ['HomePlanet','Destination','CryoSleep','VIP']\n",
    "\n",
    "test_df = pd.get_dummies(test_df,columns=columns_to_encode, drop_first=True)\n",
    "\n",
    "# #Transform the data\n",
    "# test_numerical_df = transform_to_normal(numerical_test_df)"
   ]
  },
  {
   "cell_type": "code",
   "execution_count": 21,
   "metadata": {},
   "outputs": [
    {
     "name": "stdout",
     "output_type": "stream",
     "text": [
      "Index(['Cabin', 'Age', 'RoomService', 'FoodCourt', 'ShoppingMall', 'Spa',\n",
      "       'VRDeck', 'HomePlanet_Europa', 'HomePlanet_Mars', 'HomePlanet_Unknown',\n",
      "       'Destination_PSO J318.5-22', 'Destination_TRAPPIST-1e',\n",
      "       'CryoSleep_True', 'CryoSleep_Unknown', 'VIP_True', 'VIP_Unknown'],\n",
      "      dtype='object')\n"
     ]
    }
   ],
   "source": [
    "#Merge DFs\n",
    "for col in numerical_test_df.columns:\n",
    "    test_df[col] = numerical_test_df[col]\n",
    "\n",
    "\n",
    "print(test_df.columns)"
   ]
  },
  {
   "cell_type": "code",
   "execution_count": 22,
   "metadata": {},
   "outputs": [
    {
     "data": {
      "text/html": [
       "<div>\n",
       "<style scoped>\n",
       "    .dataframe tbody tr th:only-of-type {\n",
       "        vertical-align: middle;\n",
       "    }\n",
       "\n",
       "    .dataframe tbody tr th {\n",
       "        vertical-align: top;\n",
       "    }\n",
       "\n",
       "    .dataframe thead th {\n",
       "        text-align: right;\n",
       "    }\n",
       "</style>\n",
       "<table border=\"1\" class=\"dataframe\">\n",
       "  <thead>\n",
       "    <tr style=\"text-align: right;\">\n",
       "      <th></th>\n",
       "      <th>Age</th>\n",
       "      <th>RoomService</th>\n",
       "      <th>FoodCourt</th>\n",
       "      <th>ShoppingMall</th>\n",
       "      <th>Spa</th>\n",
       "      <th>VRDeck</th>\n",
       "      <th>HomePlanet_Europa</th>\n",
       "      <th>HomePlanet_Mars</th>\n",
       "      <th>HomePlanet_Unknown</th>\n",
       "      <th>Destination_PSO J318.5-22</th>\n",
       "      <th>Destination_TRAPPIST-1e</th>\n",
       "      <th>CryoSleep_True</th>\n",
       "      <th>CryoSleep_Unknown</th>\n",
       "      <th>VIP_True</th>\n",
       "      <th>VIP_Unknown</th>\n",
       "    </tr>\n",
       "  </thead>\n",
       "  <tbody>\n",
       "    <tr>\n",
       "      <th>0</th>\n",
       "      <td>39.0</td>\n",
       "      <td>0.000000</td>\n",
       "      <td>0.000000</td>\n",
       "      <td>0.000000</td>\n",
       "      <td>0.000000</td>\n",
       "      <td>0.000000</td>\n",
       "      <td>0</td>\n",
       "      <td>0</td>\n",
       "      <td>0</td>\n",
       "      <td>0</td>\n",
       "      <td>1</td>\n",
       "      <td>1</td>\n",
       "      <td>0</td>\n",
       "      <td>0</td>\n",
       "      <td>0</td>\n",
       "    </tr>\n",
       "    <tr>\n",
       "      <th>1</th>\n",
       "      <td>24.0</td>\n",
       "      <td>1.740550</td>\n",
       "      <td>1.194706</td>\n",
       "      <td>1.448822</td>\n",
       "      <td>1.989232</td>\n",
       "      <td>1.570003</td>\n",
       "      <td>0</td>\n",
       "      <td>0</td>\n",
       "      <td>0</td>\n",
       "      <td>0</td>\n",
       "      <td>1</td>\n",
       "      <td>0</td>\n",
       "      <td>0</td>\n",
       "      <td>0</td>\n",
       "      <td>0</td>\n",
       "    </tr>\n",
       "    <tr>\n",
       "      <th>2</th>\n",
       "      <td>58.0</td>\n",
       "      <td>1.565317</td>\n",
       "      <td>2.217276</td>\n",
       "      <td>0.000000</td>\n",
       "      <td>2.283631</td>\n",
       "      <td>1.591686</td>\n",
       "      <td>1</td>\n",
       "      <td>0</td>\n",
       "      <td>0</td>\n",
       "      <td>0</td>\n",
       "      <td>0</td>\n",
       "      <td>1</td>\n",
       "      <td>0</td>\n",
       "      <td>0</td>\n",
       "      <td>0</td>\n",
       "    </tr>\n",
       "    <tr>\n",
       "      <th>3</th>\n",
       "      <td>33.0</td>\n",
       "      <td>0.000000</td>\n",
       "      <td>2.098967</td>\n",
       "      <td>1.934256</td>\n",
       "      <td>2.209453</td>\n",
       "      <td>1.835435</td>\n",
       "      <td>1</td>\n",
       "      <td>0</td>\n",
       "      <td>0</td>\n",
       "      <td>0</td>\n",
       "      <td>1</td>\n",
       "      <td>0</td>\n",
       "      <td>0</td>\n",
       "      <td>0</td>\n",
       "      <td>0</td>\n",
       "    </tr>\n",
       "    <tr>\n",
       "      <th>4</th>\n",
       "      <td>16.0</td>\n",
       "      <td>1.904646</td>\n",
       "      <td>1.660640</td>\n",
       "      <td>1.795732</td>\n",
       "      <td>1.993147</td>\n",
       "      <td>0.741276</td>\n",
       "      <td>0</td>\n",
       "      <td>0</td>\n",
       "      <td>0</td>\n",
       "      <td>0</td>\n",
       "      <td>1</td>\n",
       "      <td>0</td>\n",
       "      <td>0</td>\n",
       "      <td>0</td>\n",
       "      <td>0</td>\n",
       "    </tr>\n",
       "    <tr>\n",
       "      <th>...</th>\n",
       "      <td>...</td>\n",
       "      <td>...</td>\n",
       "      <td>...</td>\n",
       "      <td>...</td>\n",
       "      <td>...</td>\n",
       "      <td>...</td>\n",
       "      <td>...</td>\n",
       "      <td>...</td>\n",
       "      <td>...</td>\n",
       "      <td>...</td>\n",
       "      <td>...</td>\n",
       "      <td>...</td>\n",
       "      <td>...</td>\n",
       "      <td>...</td>\n",
       "      <td>...</td>\n",
       "    </tr>\n",
       "    <tr>\n",
       "      <th>4272</th>\n",
       "      <td>42.0</td>\n",
       "      <td>0.000000</td>\n",
       "      <td>0.526589</td>\n",
       "      <td>0.000000</td>\n",
       "      <td>1.358505</td>\n",
       "      <td>2.125730</td>\n",
       "      <td>0</td>\n",
       "      <td>0</td>\n",
       "      <td>0</td>\n",
       "      <td>0</td>\n",
       "      <td>1</td>\n",
       "      <td>1</td>\n",
       "      <td>0</td>\n",
       "      <td>0</td>\n",
       "      <td>0</td>\n",
       "    </tr>\n",
       "    <tr>\n",
       "      <th>4273</th>\n",
       "      <td>28.0</td>\n",
       "      <td>0.000000</td>\n",
       "      <td>1.824307</td>\n",
       "      <td>1.980731</td>\n",
       "      <td>0.000000</td>\n",
       "      <td>0.000000</td>\n",
       "      <td>0</td>\n",
       "      <td>0</td>\n",
       "      <td>0</td>\n",
       "      <td>0</td>\n",
       "      <td>1</td>\n",
       "      <td>0</td>\n",
       "      <td>0</td>\n",
       "      <td>0</td>\n",
       "      <td>0</td>\n",
       "    </tr>\n",
       "    <tr>\n",
       "      <th>4274</th>\n",
       "      <td>43.0</td>\n",
       "      <td>1.935801</td>\n",
       "      <td>1.730662</td>\n",
       "      <td>2.151343</td>\n",
       "      <td>1.528427</td>\n",
       "      <td>0.000000</td>\n",
       "      <td>0</td>\n",
       "      <td>1</td>\n",
       "      <td>0</td>\n",
       "      <td>0</td>\n",
       "      <td>0</td>\n",
       "      <td>1</td>\n",
       "      <td>0</td>\n",
       "      <td>0</td>\n",
       "      <td>0</td>\n",
       "    </tr>\n",
       "    <tr>\n",
       "      <th>4275</th>\n",
       "      <td>55.0</td>\n",
       "      <td>0.000000</td>\n",
       "      <td>1.728949</td>\n",
       "      <td>0.000000</td>\n",
       "      <td>1.891788</td>\n",
       "      <td>2.260262</td>\n",
       "      <td>1</td>\n",
       "      <td>0</td>\n",
       "      <td>0</td>\n",
       "      <td>0</td>\n",
       "      <td>1</td>\n",
       "      <td>0</td>\n",
       "      <td>0</td>\n",
       "      <td>0</td>\n",
       "      <td>0</td>\n",
       "    </tr>\n",
       "    <tr>\n",
       "      <th>4276</th>\n",
       "      <td>21.0</td>\n",
       "      <td>1.481877</td>\n",
       "      <td>1.466077</td>\n",
       "      <td>1.583341</td>\n",
       "      <td>2.020741</td>\n",
       "      <td>1.248441</td>\n",
       "      <td>0</td>\n",
       "      <td>0</td>\n",
       "      <td>0</td>\n",
       "      <td>1</td>\n",
       "      <td>0</td>\n",
       "      <td>1</td>\n",
       "      <td>0</td>\n",
       "      <td>0</td>\n",
       "      <td>0</td>\n",
       "    </tr>\n",
       "  </tbody>\n",
       "</table>\n",
       "<p>4277 rows × 15 columns</p>\n",
       "</div>"
      ],
      "text/plain": [
       "       Age  RoomService  FoodCourt  ShoppingMall       Spa    VRDeck  \\\n",
       "0     39.0     0.000000   0.000000      0.000000  0.000000  0.000000   \n",
       "1     24.0     1.740550   1.194706      1.448822  1.989232  1.570003   \n",
       "2     58.0     1.565317   2.217276      0.000000  2.283631  1.591686   \n",
       "3     33.0     0.000000   2.098967      1.934256  2.209453  1.835435   \n",
       "4     16.0     1.904646   1.660640      1.795732  1.993147  0.741276   \n",
       "...    ...          ...        ...           ...       ...       ...   \n",
       "4272  42.0     0.000000   0.526589      0.000000  1.358505  2.125730   \n",
       "4273  28.0     0.000000   1.824307      1.980731  0.000000  0.000000   \n",
       "4274  43.0     1.935801   1.730662      2.151343  1.528427  0.000000   \n",
       "4275  55.0     0.000000   1.728949      0.000000  1.891788  2.260262   \n",
       "4276  21.0     1.481877   1.466077      1.583341  2.020741  1.248441   \n",
       "\n",
       "      HomePlanet_Europa  HomePlanet_Mars  HomePlanet_Unknown  \\\n",
       "0                     0                0                   0   \n",
       "1                     0                0                   0   \n",
       "2                     1                0                   0   \n",
       "3                     1                0                   0   \n",
       "4                     0                0                   0   \n",
       "...                 ...              ...                 ...   \n",
       "4272                  0                0                   0   \n",
       "4273                  0                0                   0   \n",
       "4274                  0                1                   0   \n",
       "4275                  1                0                   0   \n",
       "4276                  0                0                   0   \n",
       "\n",
       "      Destination_PSO J318.5-22  Destination_TRAPPIST-1e  CryoSleep_True  \\\n",
       "0                             0                        1               1   \n",
       "1                             0                        1               0   \n",
       "2                             0                        0               1   \n",
       "3                             0                        1               0   \n",
       "4                             0                        1               0   \n",
       "...                         ...                      ...             ...   \n",
       "4272                          0                        1               1   \n",
       "4273                          0                        1               0   \n",
       "4274                          0                        0               1   \n",
       "4275                          0                        1               0   \n",
       "4276                          1                        0               1   \n",
       "\n",
       "      CryoSleep_Unknown  VIP_True  VIP_Unknown  \n",
       "0                     0         0            0  \n",
       "1                     0         0            0  \n",
       "2                     0         0            0  \n",
       "3                     0         0            0  \n",
       "4                     0         0            0  \n",
       "...                 ...       ...          ...  \n",
       "4272                  0         0            0  \n",
       "4273                  0         0            0  \n",
       "4274                  0         0            0  \n",
       "4275                  0         0            0  \n",
       "4276                  0         0            0  \n",
       "\n",
       "[4277 rows x 15 columns]"
      ]
     },
     "execution_count": 22,
     "metadata": {},
     "output_type": "execute_result"
    }
   ],
   "source": [
    "def encode_to_binary(test_df:pd.DataFrame):\n",
    "    #test_df['CryoSleep'] = test_df['CryoSleep'].map({True: 1, False: 0})\n",
    "    #test_df['VIP'] = test_df['VIP'].map({True: 1, False: 0})\n",
    "\n",
    "    bool_cols = test_df.select_dtypes(include=['bool']).columns\n",
    "    test_df[bool_cols] = test_df[bool_cols].astype(int)\n",
    "\n",
    "\n",
    "    X = test_df.drop(['Cabin'], axis = 1)\n",
    "\n",
    "    return X\n",
    "\n",
    "X_test_set = encode_to_binary(test_df)\n",
    "\n",
    "X_test_set"
   ]
  },
  {
   "cell_type": "code",
   "execution_count": 23,
   "metadata": {},
   "outputs": [],
   "source": [
    "X_test_set_logistic = sm.add_constant(X_test_set)\n",
    "pred = model.predict(X_test_set_logistic)\n",
    "\n",
    "pred = np.where(pred > 0.5, 1, 0)\n",
    "\n"
   ]
  },
  {
   "cell_type": "code",
   "execution_count": 28,
   "metadata": {},
   "outputs": [],
   "source": [
    "#Merge with patient ids\n",
    "\n",
    "result = pd.DataFrame(columns=['PassengerId','Transported'])\n",
    "\n",
    "pred_series = pd.Series(pred)\n",
    "\n",
    "result['PassengerId'] = id\n",
    "result['Transported'] = pred_series.astype(bool)\n"
   ]
  },
  {
   "cell_type": "code",
   "execution_count": 29,
   "metadata": {},
   "outputs": [],
   "source": [
    "#Export to CSV\n",
    "result.to_csv('result.csv',index=False)"
   ]
  }
 ],
 "metadata": {
  "kernelspec": {
   "display_name": "base",
   "language": "python",
   "name": "python3"
  },
  "language_info": {
   "codemirror_mode": {
    "name": "ipython",
    "version": 3
   },
   "file_extension": ".py",
   "mimetype": "text/x-python",
   "name": "python",
   "nbconvert_exporter": "python",
   "pygments_lexer": "ipython3",
   "version": "3.11.5"
  }
 },
 "nbformat": 4,
 "nbformat_minor": 2
}
